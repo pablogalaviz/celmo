{
 "cells": [
  {
   "cell_type": "markdown",
   "metadata": {},
   "source": [
    "# CelMo example."
   ]
  },
  {
   "cell_type": "code",
   "execution_count": 1,
   "metadata": {
    "collapsed": false
   },
   "outputs": [],
   "source": [
    "from celmo import *\n",
    "from celmo.interface.notebook import * \n",
    "import matplotlib.pyplot as plt \n",
    "import pandas as pd \n",
    "%matplotlib inline"
   ]
  },
  {
   "cell_type": "markdown",
   "metadata": {},
   "source": [
    "# Data and project directory \n",
    "\n",
    "The function `read_enzo_data` returns a cel_data container. The arguments of the function are:\n",
    "\n",
    "1. `project_path` : A directory containing ENZO uni-grid data for CE simulations (Passy J. C. et al. 2012, ApJ, 744, 52). \n",
    "2. `data_path` : A path for CelMo data.\n",
    "3. `yt_reader` : Activate/deactivate the use of yt to read the data. `yt_reader=False` uses a build-in procedure to read the data files."
   ]
  },
  {
   "cell_type": "code",
   "execution_count": 2,
   "metadata": {
    "collapsed": false
   },
   "outputs": [
    {
     "name": "stdout",
     "output_type": "stream",
     "text": [
      "CELMO WARNING [2016-11-18 09:57:14,049] | No field Total_Energy found, trying TotalEnergy.\n",
      "CELMO INFO [2016-11-18 09:57:14,194] | Found TotalEnergy field.\n"
     ]
    }
   ],
   "source": [
    "data_directory=os.path.expanduser(\"~/data/enzo/data/DD0000/data0000\")\n",
    "project_directory=os.path.expanduser(\"~/data/celmo\")\n",
    "\n",
    "celmo_data = read_enzo_data(project_path=project_directory,data_path=data_directory,yt_reader=False)"
   ]
  },
  {
   "cell_type": "markdown",
   "metadata": {},
   "source": [
    "## Temperature\n",
    "`compute_temperature` requieres:\n",
    "1. Teff     : Effective temperature of the initial model \n",
    "2. mu       : The mean molecular weight, $T=\\frac{U M(\\gamma-1)}{N_a k}$ where $M=1.00797/\\mu$\n",
    "3. rho0     : A floor density \n",
    "4. cel_data : CelMo data container with fields `energy density` $U$ and `density` $rho$\n",
    "\n",
    "**Note: `density` is required to define the \"vacuum region\" $\\rho < \\rho_0$ **"
   ]
  },
  {
   "cell_type": "code",
   "execution_count": 3,
   "metadata": {
    "collapsed": false
   },
   "outputs": [
    {
     "name": "stdout",
     "output_type": "stream",
     "text": [
      "CELMO INFO [2016-11-18 09:57:19,163] | Found temperature.\n"
     ]
    }
   ],
   "source": [
    "compute_temperature( Teff=3500, mu=1.2, rho0=1e-9, cel_data=celmo_data)"
   ]
  },
  {
   "cell_type": "code",
   "execution_count": null,
   "metadata": {
    "collapsed": true
   },
   "outputs": [],
   "source": [
    "\n",
    "compute_opacity(celmo_data)\n",
    "\n",
    "compute_filters(celmo_data)\n",
    "\n",
    "compute_attenuation(celmo_data)\n",
    "\n",
    "compute_optical_depth(celmo_data)\n",
    "\n",
    "compute_brightness(celmo_data)\n",
    "\n",
    "compute_extinction_factor(celmo_data)\n",
    "\n",
    "compute_energy_flux_density(celmo_data)\n",
    "\n",
    "compute_luminosity(celmo_data,project_directory)"
   ]
  },
  {
   "cell_type": "markdown",
   "metadata": {},
   "source": [
    "`list_fields` and `list_parameters` shows the data contained in `celmo_data`"
   ]
  },
  {
   "cell_type": "code",
   "execution_count": 16,
   "metadata": {
    "collapsed": false
   },
   "outputs": [],
   "source": [
    "celmo_fields=celmo_data.list_fields()\n",
    "#for the next example we don't need these fields \n",
    "celmo_fields.remove('x')\n",
    "celmo_fields.remove('y')\n",
    "celmo_fields.remove('z')\n",
    "celmo_fields.remove('dx')\n",
    "celmo_fields.remove('dy')\n",
    "celmo_fields.remove('dz')\n",
    "celmo_fields.remove('particle_position_x')\n",
    "celmo_fields.remove('particle_position_y')\n",
    "celmo_fields.remove('particle_position_z')"
   ]
  },
  {
   "cell_type": "markdown",
   "metadata": {},
   "source": [
    "## Plot 1d cuts of the fields\n",
    "\n",
    "`get_field_1d` returs a 1d numpy array with the data at half domain "
   ]
  },
  {
   "cell_type": "code",
   "execution_count": 18,
   "metadata": {
    "collapsed": true
   },
   "outputs": [
    {
     "data": {
      "image/png": "[encoded data removed]",
      "text/plain": [
       "<matplotlib.figure.Figure at 0x118c6ecc0>"
      ]
     },
     "metadata": {},
     "output_type": "display_data"
    }
   ],
   "source": [
    "def show_field(field=celmo_fields,axis=['x','y','z'],plot=False,logscale=False):\n",
    "    axis_map={'x':0,'y':1,'z':2}\n",
    "    temperature = celmo_data.get_field_1d(field,axis=axis_map[axis])\n",
    "    coordinate=celmo_data.get_field_1d(axis,axis=axis_map[axis])\n",
    "    df = pd.DataFrame({axis:coordinate,field:temperature})\n",
    "    if plot:\n",
    "        df.set_index(axis).plot(logy=logscale)\n",
    "    else:\n",
    "        print(df) \n",
    "d=interact_manual(show_field)"
   ]
  },
  {
   "cell_type": "code",
   "execution_count": null,
   "metadata": {
    "collapsed": false
   },
   "outputs": [],
   "source": [
    "efd=celmo_data.get_field('EFD_B_mX')"
   ]
  },
  {
   "cell_type": "code",
   "execution_count": null,
   "metadata": {
    "collapsed": false
   },
   "outputs": [],
   "source": [
    "plt.imshow(np.log(efd+1))"
   ]
  },
  {
   "cell_type": "code",
   "execution_count": null,
   "metadata": {
    "collapsed": false
   },
   "outputs": [],
   "source": [
    "plt.show()"
   ]
  },
  {
   "cell_type": "code",
   "execution_count": null,
   "metadata": {
    "collapsed": true
   },
   "outputs": [],
   "source": []
  }
 ],
 "metadata": {
  "kernelspec": {
   "display_name": "Python 3",
   "language": "python",
   "name": "python3"
  },
  "language_info": {
   "codemirror_mode": {
    "name": "ipython",
    "version": 3
   },
   "file_extension": ".py",
   "mimetype": "text/x-python",
   "name": "python",
   "nbconvert_exporter": "python",
   "pygments_lexer": "ipython3",
   "version": "3.4.5"
  }
 },
 "nbformat": 4,
 "nbformat_minor": 1
}
