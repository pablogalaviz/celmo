{
 "cells": [
  {
   "cell_type": "markdown",
   "metadata": {},
   "source": [
    "# CelMo example."
   ]
  },
  {
   "cell_type": "code",
   "execution_count": 4,
   "metadata": {
    "collapsed": false
   },
   "outputs": [],
   "source": [
    "from celmo import *\n",
    "from celmo.interface.notebook import * \n",
    "import matplotlib.pyplot as plt \n",
    "import pandas as pd \n",
    "%matplotlib inline"
   ]
  },
  {
   "cell_type": "markdown",
   "metadata": {},
   "source": [
    "# Data and project directory \n",
    "\n",
    "The function `read_enzo_data` returns a cel_data container. The arguments of the function are:\n",
    "\n",
    "1. `project_path` : A directory containing ENZO uni-grid data for CE simulations (Passy J. C. et al. 2012, ApJ, 744, 52). \n",
    "2. `data_path` : A path for CelMo data.\n",
    "3. `yt_reader` : Activate/deactivate the use of yt to read the data. `yt_reader=False` uses a build-in procedure to read the data files."
   ]
  },
  {
   "cell_type": "code",
   "execution_count": 5,
   "metadata": {
    "collapsed": false
   },
   "outputs": [
    {
     "name": "stdout",
     "output_type": "stream",
     "text": [
      "CELMO WARNING [2016-11-23 10:00:31,313] | No field Total_Energy found, trying TotalEnergy.\n",
      "CELMO INFO [2016-11-23 10:00:31,552] | Found TotalEnergy field.\n"
     ]
    }
   ],
   "source": [
    "data_directory=os.path.expanduser(\"~/data/enzo/data/DD0000/data0000\")\n",
    "project_directory=os.path.expanduser(\"~/data/celmo\")\n",
    "\n",
    "celmo_data = read_enzo_data(project_path=project_directory,data_path=data_directory,yt_reader=False)"
   ]
  },
  {
   "cell_type": "markdown",
   "metadata": {},
   "source": [
    "## Temperature\n",
    "`compute_temperature` requieres:\n",
    "1. Teff     : Effective temperature of the initial model \n",
    "2. mu       : The mean molecular weight, $T=\\frac{U M(\\gamma-1)}{N_a k}$ where $M=1.00797/\\mu$\n",
    "3. rho0     : A floor density \n",
    "4. cel_data : CelMo data container with fields `energy density` $U$ and `density` $rho$\n",
    "\n",
    "**Note: `density` is required to define the \"vacuum region\" $\\rho < \\rho_0$ **"
   ]
  },
  {
   "cell_type": "code",
   "execution_count": 6,
   "metadata": {
    "collapsed": false
   },
   "outputs": [
    {
     "name": "stdout",
     "output_type": "stream",
     "text": [
      "CELMO INFO [2016-11-23 10:00:36,449] | Found temperature.\n"
     ]
    }
   ],
   "source": [
    "compute_temperature( Teff=3500, mu=1.2, rho0=1e-9, cel_data=celmo_data)"
   ]
  },
  {
   "cell_type": "code",
   "execution_count": 7,
   "metadata": {
    "collapsed": false
   },
   "outputs": [
    {
     "name": "stdout",
     "output_type": "stream",
     "text": [
      "CELMO INFO [2016-11-23 10:00:36,458] | Found opacity field.\n",
      "CELMO INFO [2016-11-23 10:00:36,459] | Found filters\n",
      "CELMO INFO [2016-11-23 10:00:36,460] | Found attenuation field.\n",
      "CELMO INFO [2016-11-23 10:00:36,461] | Found optical depth.\n",
      "CELMO INFO [2016-11-23 10:00:36,462] | Found differential brightness field.\n",
      "CELMO INFO [2016-11-23 10:00:36,463] | Found extinction factor\n",
      "CELMO INFO [2016-11-23 10:00:36,465] | Found energy flux density field.\n",
      "CELMO INFO [2016-11-23 10:00:38,380] | \tBolometric Luminosity -X: 3.567318e+36 -- 929.231150\n",
      "CELMO INFO [2016-11-23 10:00:38,381] | \tBolometric Luminosity +X: 3.567318e+36 -- 929.231150\n",
      "CELMO INFO [2016-11-23 10:00:38,382] | \tBolometric Luminosity -Y: 3.567318e+36 -- 929.231150\n",
      "CELMO INFO [2016-11-23 10:00:38,383] | \tBolometric Luminosity +Y: 3.567318e+36 -- 929.231150\n",
      "CELMO INFO [2016-11-23 10:00:38,383] | \tBolometric Luminosity -Z: 3.567318e+36 -- 929.231150\n",
      "CELMO INFO [2016-11-23 10:00:38,384] | \tBolometric Luminosity +Z: 3.567318e+36 -- 929.231150\n",
      "CELMO INFO [2016-11-23 10:00:38,385] | \tR Band Luminosity -X: 1.621300e+35 -- 42.232344\n",
      "CELMO INFO [2016-11-23 10:00:38,385] | \tR Band Luminosity +X: 1.621300e+35 -- 42.232344\n",
      "CELMO INFO [2016-11-23 10:00:38,386] | \tR Band Luminosity -Y: 1.621300e+35 -- 42.232344\n",
      "CELMO INFO [2016-11-23 10:00:38,387] | \tR Band Luminosity +Y: 1.621300e+35 -- 42.232344\n",
      "CELMO INFO [2016-11-23 10:00:38,387] | \tR Band Luminosity -Z: 1.621300e+35 -- 42.232344\n",
      "CELMO INFO [2016-11-23 10:00:38,388] | \tR Band Luminosity +Z: 1.621300e+35 -- 42.232344\n",
      "CELMO INFO [2016-11-23 10:00:38,389] | \tI Band Luminosity -X: 6.982699e+34 -- 18.188848\n",
      "CELMO INFO [2016-11-23 10:00:38,390] | \tI Band Luminosity +X: 6.982699e+34 -- 18.188848\n",
      "CELMO INFO [2016-11-23 10:00:38,390] | \tI Band Luminosity -Y: 6.982699e+34 -- 18.188848\n",
      "CELMO INFO [2016-11-23 10:00:38,391] | \tI Band Luminosity +Y: 6.982699e+34 -- 18.188848\n",
      "CELMO INFO [2016-11-23 10:00:38,392] | \tI Band Luminosity -Z: 6.982699e+34 -- 18.188848\n",
      "CELMO INFO [2016-11-23 10:00:38,392] | \tI Band Luminosity +Z: 6.982699e+34 -- 18.188848\n"
     ]
    }
   ],
   "source": [
    "\n",
    "compute_opacity(celmo_data)\n",
    "\n",
    "compute_filters(celmo_data)\n",
    "\n",
    "compute_attenuation(celmo_data)\n",
    "\n",
    "compute_optical_depth(celmo_data)\n",
    "\n",
    "compute_brightness(celmo_data)\n",
    "\n",
    "compute_extinction_factor(celmo_data)\n",
    "\n",
    "compute_energy_flux_density(celmo_data)\n",
    "\n",
    "compute_luminosity(celmo_data,project_directory)"
   ]
  },
  {
   "cell_type": "markdown",
   "metadata": {},
   "source": [
    "`list_fields` and `list_parameters` shows the data contained in `celmo_data`"
   ]
  },
  {
   "cell_type": "code",
   "execution_count": 8,
   "metadata": {
    "collapsed": false
   },
   "outputs": [],
   "source": [
    "celmo_fields=celmo_data.list_fields()\n",
    "#for the next example we don't need these fields \n",
    "celmo_fields.remove('x')\n",
    "celmo_fields.remove('y')\n",
    "celmo_fields.remove('z')\n",
    "celmo_fields.remove('dx')\n",
    "celmo_fields.remove('dy')\n",
    "celmo_fields.remove('dz')\n",
    "#position array \n",
    "celmo_fields.remove('particle_position_x')\n",
    "celmo_fields.remove('particle_position_y')\n",
    "celmo_fields.remove('particle_position_z')\n",
    "\n",
    "#2D fields \n",
    "celmo_fields.remove('EFD_B_mX')\n",
    "celmo_fields.remove('EFD_B_PX')\n",
    "celmo_fields.remove('EFD_B_mY')\n",
    "celmo_fields.remove('EFD_B_PY')\n",
    "celmo_fields.remove('EFD_B_mZ')\n",
    "celmo_fields.remove('EFD_B_PZ')\n",
    "\n",
    "celmo_fields.remove('EFD_V_mX')\n",
    "celmo_fields.remove('EFD_V_PX')\n",
    "celmo_fields.remove('EFD_V_mY')\n",
    "celmo_fields.remove('EFD_V_PY')\n",
    "celmo_fields.remove('EFD_V_mZ')\n",
    "celmo_fields.remove('EFD_V_PZ')\n",
    "\n",
    "celmo_fields.remove('EFD_I_mX')\n",
    "celmo_fields.remove('EFD_I_PX')\n",
    "celmo_fields.remove('EFD_I_mY')\n",
    "celmo_fields.remove('EFD_I_PY')\n",
    "celmo_fields.remove('EFD_I_mZ')\n",
    "celmo_fields.remove('EFD_I_PZ')"
   ]
  },
  {
   "cell_type": "markdown",
   "metadata": {},
   "source": [
    "## Plot 1d cuts of the fields\n",
    "\n",
    "`get_field_1d` returs a 1d numpy array with the data at half domain "
   ]
  },
  {
   "cell_type": "code",
   "execution_count": 9,
   "metadata": {
    "collapsed": false
   },
   "outputs": [
    {
     "data": {
      "image/png": "[encoded data removed]",
      "text/plain": [
       "<matplotlib.figure.Figure at 0x11ed7e050>"
      ]
     },
     "metadata": {},
     "output_type": "display_data"
    }
   ],
   "source": [
    "def show_field(field=celmo_fields,axis=['x','y','z'],plot=False,logscale=False):\n",
    "    axis_map={'x':0,'y':1,'z':2}\n",
    "    temperature = celmo_data.get_field_1d(field,axis=axis_map[axis])\n",
    "    coordinate=celmo_data.get_field_1d(axis,axis=axis_map[axis])\n",
    "    df = pd.DataFrame({axis:coordinate,field:temperature})\n",
    "    if plot:\n",
    "        df.set_index(axis).plot(logy=logscale)\n",
    "    else:\n",
    "        print(df) \n",
    "d=interact_manual(show_field)"
   ]
  },
  {
   "cell_type": "markdown",
   "metadata": {},
   "source": [
    "## Plot 2d  fields"
   ]
  },
  {
   "cell_type": "code",
   "execution_count": 10,
   "metadata": {
    "collapsed": false
   },
   "outputs": [
    {
     "data": {
      "image/png": "[encoded data removed]",
      "text/plain": [
       "<matplotlib.figure.Figure at 0x11261f4d0>"
      ]
     },
     "metadata": {},
     "output_type": "display_data"
    }
   ],
   "source": [
    "efd=celmo_data.get_field('EFD_B_mX')\n",
    "\n",
    "plt.imshow(np.log(efd+1))\n",
    "\n",
    "plt.show()"
   ]
  },
  {
   "cell_type": "markdown",
   "metadata": {
    "collapsed": true
   },
   "source": [
    "# Celmo\n",
    "\n",
    "Common envelope light module. \n",
    "\n",
    "## Synopsis\n",
    "\n",
    "Celmo  computes   the  light   curve  emitted  from   common  envelope\n",
    "hydrodynamic  simulations carried  out with  the 3D  hydrodynamic code\n",
    "Enzo used in unigrid mode.\n",
    "\n",
    "\n",
    "## Installation\n",
    "\n",
    "To install celmo in your standar python directorie run the command:\n",
    "\n",
    "`sudo pip install /path/to/celmo/source`\n",
    "\n",
    "## Examples \n",
    "\n",
    "### command line \n",
    "\n",
    "Assuming that the data is in `/path/to/data`\n",
    "\n",
    "1. Create a new project directory `mkdir /path/to/root/project`\n",
    "2. Create a new parameter file some_params.par (see below)\n",
    "3. Run celmo `nohup celmo_cmd.py some_params.par > output.log &`\n",
    "\n",
    "\n",
    "### interactive notebook \n",
    "\n",
    "Follow the example in celmo/notebooks/Example.ipynb\n",
    "\n",
    "### parameter file \n",
    "\n",
    "The parameter file has the following format:\n",
    "\n",
    ">[output]\n",
    "\n",
    ">directory=/path/to/root/project\n",
    "\n",
    ">datafiles=/path/to/data\n",
    "\n",
    ">overwrite=no\n",
    "\n",
    ">[model]\n",
    "\n",
    ">effective_temperature=3500\n",
    "\n",
    ">mol_weight=1.2\n",
    "\n",
    ">floor_density=1e-9\n"
   ]
  },
  {
   "cell_type": "code",
   "execution_count": null,
   "metadata": {
    "collapsed": true
   },
   "outputs": [],
   "source": []
  }
 ],
 "metadata": {
  "kernelspec": {
   "display_name": "Python 2",
   "language": "python",
   "name": "python2"
  },
  "language_info": {
   "codemirror_mode": {
    "name": "ipython",
    "version": 2
   },
   "file_extension": ".py",
   "mimetype": "text/x-python",
   "name": "python",
   "nbconvert_exporter": "python",
   "pygments_lexer": "ipython2",
   "version": "2.7.12"
  },
  "widgets": {
   "state": {
    "ec21c6fa19f8445f9c4027d4e0f99cb9": {
     "views": [
      {
       "cell_index": 10
      }
     ]
    }
   },
   "version": "1.2.0"
  }
 },
 "nbformat": 4,
 "nbformat_minor": 1
}
